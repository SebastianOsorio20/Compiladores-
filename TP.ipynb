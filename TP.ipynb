{
  "nbformat": 4,
  "nbformat_minor": 0,
  "metadata": {
    "colab": {
      "provenance": []
    },
    "kernelspec": {
      "name": "python3",
      "display_name": "Python 3"
    },
    "language_info": {
      "name": "python"
    }
  },
  "cells": [
    {
      "cell_type": "code",
      "source": [
        "!sudo apt-get update\n",
        "!sudo apt-get install flex bison"
      ],
      "metadata": {
        "colab": {
          "base_uri": "https://localhost:8080/"
        },
        "id": "0be3xca0Pxaa",
        "outputId": "6769d3a3-1383-4ca4-8ce1-4d7ca91a5d2c"
      },
      "execution_count": 1,
      "outputs": [
        {
          "output_type": "stream",
          "name": "stdout",
          "text": [
            "\r0% [Working]\r            \rGet:1 https://cloud.r-project.org/bin/linux/ubuntu focal-cran40/ InRelease [3,622 B]\n",
            "\r0% [Connecting to archive.ubuntu.com] [Connecting to security.ubuntu.com (185.1\r0% [Connecting to archive.ubuntu.com] [Connecting to security.ubuntu.com (185.1\r                                                                               \rGet:2 https://developer.download.nvidia.com/compute/cuda/repos/ubuntu2004/x86_64  InRelease [1,581 B]\n",
            "Get:3 http://security.ubuntu.com/ubuntu focal-security InRelease [114 kB]\n",
            "Hit:4 http://ppa.launchpad.net/c2d4u.team/c2d4u4.0+/ubuntu focal InRelease\n",
            "Hit:5 http://archive.ubuntu.com/ubuntu focal InRelease\n",
            "Get:6 http://archive.ubuntu.com/ubuntu focal-updates InRelease [114 kB]\n",
            "Hit:7 http://ppa.launchpad.net/cran/libgit2/ubuntu focal InRelease\n",
            "Get:8 https://developer.download.nvidia.com/compute/cuda/repos/ubuntu2004/x86_64  Packages [1,009 kB]\n",
            "Hit:9 http://ppa.launchpad.net/deadsnakes/ppa/ubuntu focal InRelease\n",
            "Get:10 http://archive.ubuntu.com/ubuntu focal-backports InRelease [108 kB]\n",
            "Hit:11 http://ppa.launchpad.net/graphics-drivers/ppa/ubuntu focal InRelease\n",
            "Get:12 http://security.ubuntu.com/ubuntu focal-security/main amd64 Packages [2,669 kB]\n",
            "Hit:13 http://ppa.launchpad.net/ubuntugis/ppa/ubuntu focal InRelease\n",
            "Get:14 http://archive.ubuntu.com/ubuntu focal-updates/main amd64 Packages [3,150 kB]\n",
            "Fetched 7,169 kB in 3s (2,477 kB/s)\n",
            "Reading package lists... Done\n",
            "Reading package lists... Done\n",
            "Building dependency tree       \n",
            "Reading state information... Done\n",
            "The following additional packages will be installed:\n",
            "  libfl-dev libfl2\n",
            "Suggested packages:\n",
            "  bison-doc flex-doc\n",
            "The following NEW packages will be installed:\n",
            "  bison flex libfl-dev libfl2\n",
            "0 upgraded, 4 newly installed, 0 to remove and 25 not upgraded.\n",
            "Need to get 991 kB of archives.\n",
            "After this operation, 3,155 kB of additional disk space will be used.\n",
            "Get:1 http://archive.ubuntu.com/ubuntu focal/main amd64 flex amd64 2.6.4-6.2 [317 kB]\n",
            "Get:2 http://archive.ubuntu.com/ubuntu focal/main amd64 bison amd64 2:3.5.1+dfsg-1 [657 kB]\n",
            "Get:3 http://archive.ubuntu.com/ubuntu focal/main amd64 libfl2 amd64 2.6.4-6.2 [11.5 kB]\n",
            "Get:4 http://archive.ubuntu.com/ubuntu focal/main amd64 libfl-dev amd64 2.6.4-6.2 [6,316 B]\n",
            "Fetched 991 kB in 1s (747 kB/s)\n",
            "debconf: unable to initialize frontend: Dialog\n",
            "debconf: (No usable dialog-like program is installed, so the dialog based frontend cannot be used. at /usr/share/perl5/Debconf/FrontEnd/Dialog.pm line 76, <> line 4.)\n",
            "debconf: falling back to frontend: Readline\n",
            "debconf: unable to initialize frontend: Readline\n",
            "debconf: (This frontend requires a controlling tty.)\n",
            "debconf: falling back to frontend: Teletype\n",
            "dpkg-preconfigure: unable to re-open stdin: \n",
            "Selecting previously unselected package flex.\n",
            "(Reading database ... 122518 files and directories currently installed.)\n",
            "Preparing to unpack .../flex_2.6.4-6.2_amd64.deb ...\n",
            "Unpacking flex (2.6.4-6.2) ...\n",
            "Selecting previously unselected package bison.\n",
            "Preparing to unpack .../bison_2%3a3.5.1+dfsg-1_amd64.deb ...\n",
            "Unpacking bison (2:3.5.1+dfsg-1) ...\n",
            "Selecting previously unselected package libfl2:amd64.\n",
            "Preparing to unpack .../libfl2_2.6.4-6.2_amd64.deb ...\n",
            "Unpacking libfl2:amd64 (2.6.4-6.2) ...\n",
            "Selecting previously unselected package libfl-dev:amd64.\n",
            "Preparing to unpack .../libfl-dev_2.6.4-6.2_amd64.deb ...\n",
            "Unpacking libfl-dev:amd64 (2.6.4-6.2) ...\n",
            "Setting up flex (2.6.4-6.2) ...\n",
            "Setting up libfl2:amd64 (2.6.4-6.2) ...\n",
            "Setting up bison (2:3.5.1+dfsg-1) ...\n",
            "update-alternatives: using /usr/bin/bison.yacc to provide /usr/bin/yacc (yacc) in auto mode\n",
            "Setting up libfl-dev:amd64 (2.6.4-6.2) ...\n",
            "Processing triggers for man-db (2.9.1-1) ...\n",
            "Processing triggers for libc-bin (2.31-0ubuntu9.9) ...\n"
          ]
        }
      ]
    },
    {
      "cell_type": "code",
      "execution_count": 401,
      "metadata": {
        "colab": {
          "base_uri": "https://localhost:8080/"
        },
        "id": "IIJhWO3_Nh_D",
        "outputId": "ebde6aeb-ed73-4349-8011-72ac42cb6daf"
      },
      "outputs": [
        {
          "output_type": "stream",
          "name": "stdout",
          "text": [
            "Overwriting lexer.l\n"
          ]
        }
      ],
      "source": [
        "%%writefile lexer.l\n",
        "%{\n",
        "#include \"parser.tab.h\"\n",
        "%}\n",
        "\n",
        "\n",
        "\n",
        "%%\n",
        "\n",
        "\n",
        "[ \\t]   ;    /* skip whitespace */\n",
        "\"print\"   { return PRINT; }\n",
        "\"true\"   { return TRUE; }\n",
        "\"false\"   { return FALSE; }\n",
        "\"if\"   { return IF; }\n",
        "\"else\"   { return ELSE; }\n",
        "\"for\"   { return FOR; }\n",
        "\"AND\"   { return AND; }\n",
        "\"OR\"   { return OR; }\n",
        "\"NOT\"   { return NOT; }\n",
        "\n",
        "\"<\"     { return '<'; }\n",
        "\">\"     { return '>'; }\n",
        "\"<=\"    { return LE; }\n",
        "\">=\"    { return GE; }\n",
        "\"==\"    { return EQ; }\n",
        "\"!=\"    { return NEQ; }\n",
        "\n",
        "\\\".*\\\"    { yylval.strval = yytext; return TEXT; }\n",
        "[a-zA-Z]+ { yylval = *yytext - 'a'; return ID; }\n",
        "[0-9]+  { yylval = atoi(yytext); return INTEGER; }\n",
        "[\\n]    { return EOL; }\n",
        ".       { return yytext[0]; }\n",
        "\n",
        "\n",
        "%%\n",
        "\n",
        "int yywrap(void) {\n",
        "    return 1;\n",
        "}"
      ]
    },
    {
      "cell_type": "code",
      "source": [
        "%%writefile parser.y\n",
        "%{\n",
        "#include <stdio.h>\n",
        "#include <stdlib.h>\n",
        "extern int yylex(void);\n",
        "extern char *yytext;\n",
        "void yyerror(char *);\n",
        "int variables[26];\n",
        "%}\n",
        "\n",
        "\n",
        "\n",
        "\n",
        "%token INTEGER\n",
        "%token STRING\n",
        "%token TEXT\n",
        "%token EOL\n",
        "%token ID\n",
        "%token PRINT\n",
        "%token BOOLEAN\n",
        "%token TRUE FALSE\n",
        "%left IF ELSE FOR\n",
        "%left AND OR\n",
        "%nonassoc NOT\n",
        "%left '+' '-'\n",
        "%left '*' '/'\n",
        "%nonassoc '='\n",
        "%nonassoc '<' '>' \n",
        "%nonassoc EQ NEQ LE GE\n",
        "\n",
        "%%\n",
        "\n",
        "program:\n",
        "    /* empty */\n",
        "    | program line\n",
        "    ;\n",
        "\n",
        "line:\n",
        "    EOL\n",
        "    | expr EOL { printf(\"= %d\\n\", $1); }\n",
        "    ;\n",
        "\n",
        "expr:\n",
        "    INTEGER \n",
        "    | ID              { $$ = variables[$1];  }\n",
        "    | ID '=' expr     { variables[$1] = $3; $$ = $3; }\n",
        "    | '(' expr ')'    { $$ = $2; }\n",
        "    | expr '+' expr   { $$ = $1 + $3; }\n",
        "    | expr '-' expr   { $$ = $1 - $3; }\n",
        "    | expr '*' expr   { $$ = $1 * $3; }\n",
        "    | expr '/' expr   { $$ = $1 / $3; }\n",
        "    STRING\n",
        "    | 'p' '(' expr ')' { printf(\"%d\\n\", $3); }      \n",
        "    | TRUE           { $$ = 1; }\n",
        "    | FALSE          { $$ = 0; }\n",
        "    | expr AND expr  { $$ = ($1 && $3); }\n",
        "    | expr OR expr   { $$ = ($1 || $3); }\n",
        "    | NOT expr       { $$ = !$2; }\n",
        "    | expr '<' expr  { $$ = ($1 < $3); }\n",
        "    | expr '>' expr  { $$ = ($1 > $3); }\n",
        "    | expr EQ expr   { $$ = ($1 == $3); }\n",
        "    | expr NEQ expr  { $$ = ($1 != $3); }\n",
        "    | expr LE expr   { $$ = ($1 <= $3); }\n",
        "    | expr GE expr   { $$ = ($1 >= $3); }\n",
        "    | IF '(' expr ')' expr ELSE expr \n",
        "        { $$ = $3 ? $5 : $7; }\n",
        "    \n",
        "    ;\n",
        "%%\n",
        "\n",
        "int main(void) {\n",
        "    yyparse();\n",
        "    return 0;\n",
        "}\n",
        "\n",
        "void yyerror(char *s) {\n",
        "    fprintf(stderr, \"error: %s\\n\", yytext);\n",
        "}\n"
      ],
      "metadata": {
        "colab": {
          "base_uri": "https://localhost:8080/"
        },
        "id": "SW5oWxPKNxnV",
        "outputId": "401a89a8-38ff-4b05-d4a5-5395b14ff572"
      },
      "execution_count": 409,
      "outputs": [
        {
          "output_type": "stream",
          "name": "stdout",
          "text": [
            "Overwriting parser.y\n"
          ]
        }
      ]
    },
    {
      "cell_type": "code",
      "source": [
        "!flex lexer.l && bison -d parser.y"
      ],
      "metadata": {
        "id": "r-9MnlSJQBpY"
      },
      "execution_count": 410,
      "outputs": []
    },
    {
      "cell_type": "code",
      "source": [
        "!gcc -o parser lex.yy.c parser.tab.c -lfl"
      ],
      "metadata": {
        "id": "2lv7VCibQVY7",
        "colab": {
          "base_uri": "https://localhost:8080/"
        },
        "outputId": "3a01acd9-4105-4214-fff7-4312ef2a9eb6"
      },
      "execution_count": 411,
      "outputs": [
        {
          "output_type": "stream",
          "name": "stdout",
          "text": [
            "\u001b[01m\u001b[Klexer.l:\u001b[m\u001b[K In function ‘\u001b[01m\u001b[Kyylex\u001b[m\u001b[K’:\n",
            "\u001b[01m\u001b[Klexer.l:28:9:\u001b[m\u001b[K \u001b[01;31m\u001b[Kerror: \u001b[m\u001b[Krequest for member ‘\u001b[01m\u001b[Kstrval\u001b[m\u001b[K’ in something not a structure or union\n",
            "   28 | \\\".*\\\"  \u001b[01;31m\u001b[K \u001b[m\u001b[K { yylval.strval = yytext; return TEXT; }\n",
            "      |         \u001b[01;31m\u001b[K^\u001b[m\u001b[K\n"
          ]
        }
      ]
    },
    {
      "cell_type": "code",
      "source": [
        "%%writefile expresion.txt\n",
        "b = 16\n"
      ],
      "metadata": {
        "colab": {
          "base_uri": "https://localhost:8080/"
        },
        "id": "yXbwbG_pQUDW",
        "outputId": "ed53934d-41a4-45ff-cb8f-bbc6238f726b"
      },
      "execution_count": 422,
      "outputs": [
        {
          "output_type": "stream",
          "name": "stdout",
          "text": [
            "Overwriting expresion.txt\n"
          ]
        }
      ]
    },
    {
      "cell_type": "code",
      "source": [
        "!./parser <  expresion.txt"
      ],
      "metadata": {
        "colab": {
          "base_uri": "https://localhost:8080/"
        },
        "id": "x5tZlnp0hxDr",
        "outputId": "86e129bc-77df-40f8-ac52-2da195b200c6"
      },
      "execution_count": 423,
      "outputs": [
        {
          "output_type": "stream",
          "name": "stdout",
          "text": [
            "= 16\n"
          ]
        }
      ]
    },
    {
      "cell_type": "code",
      "source": [
        "%%writefile ejemplo.txt\n",
        "true AND true\n"
      ],
      "metadata": {
        "colab": {
          "base_uri": "https://localhost:8080/"
        },
        "id": "oL2KdoOx1GlW",
        "outputId": "00ff1b59-2036-4b21-d949-05b29d660687"
      },
      "execution_count": 424,
      "outputs": [
        {
          "output_type": "stream",
          "name": "stdout",
          "text": [
            "Overwriting ejemplo.txt\n"
          ]
        }
      ]
    },
    {
      "cell_type": "code",
      "source": [
        "!./parser <  ejemplo.txt"
      ],
      "metadata": {
        "colab": {
          "base_uri": "https://localhost:8080/"
        },
        "id": "7a7vbfCZhxh4",
        "outputId": "8577b578-e849-4c8c-80a6-d211bc72b3ab"
      },
      "execution_count": 425,
      "outputs": [
        {
          "output_type": "stream",
          "name": "stdout",
          "text": [
            "= 1\n"
          ]
        }
      ]
    },
    {
      "cell_type": "code",
      "source": [
        "%%writefile ejemplo2.txt\n",
        "a=5\n",
        "b=4\n",
        "\n",
        "if (a < b) 5 else 4\n"
      ],
      "metadata": {
        "colab": {
          "base_uri": "https://localhost:8080/"
        },
        "id": "4U2X9smHWxOK",
        "outputId": "acbf9565-7f3f-4ecf-d174-b2dbf3f74fd8"
      },
      "execution_count": 426,
      "outputs": [
        {
          "output_type": "stream",
          "name": "stdout",
          "text": [
            "Overwriting ejemplo2.txt\n"
          ]
        }
      ]
    },
    {
      "cell_type": "code",
      "source": [
        "!./parser <  ejemplo2.txt"
      ],
      "metadata": {
        "colab": {
          "base_uri": "https://localhost:8080/"
        },
        "id": "285EXJgVhyF1",
        "outputId": "beca98c7-331c-4fde-9008-bf560120d721"
      },
      "execution_count": 427,
      "outputs": [
        {
          "output_type": "stream",
          "name": "stdout",
          "text": [
            "= 5\n",
            "= 4\n",
            "= 4\n"
          ]
        }
      ]
    },
    {
      "cell_type": "code",
      "source": [
        "%%writefile ejemplo3.txt\n",
        "\n",
        "a=4\n",
        "b=4\n",
        "\n",
        "a != b"
      ],
      "metadata": {
        "colab": {
          "base_uri": "https://localhost:8080/"
        },
        "id": "uh4rD57JBscx",
        "outputId": "dc9e2be3-f7f3-4aac-996d-0080e62b6c47"
      },
      "execution_count": 428,
      "outputs": [
        {
          "output_type": "stream",
          "name": "stdout",
          "text": [
            "Overwriting ejemplo3.txt\n"
          ]
        }
      ]
    },
    {
      "cell_type": "code",
      "source": [
        "!./parser <  ejemplo3.txt"
      ],
      "metadata": {
        "colab": {
          "base_uri": "https://localhost:8080/"
        },
        "id": "ycCsoXu1PjWf",
        "outputId": "07326591-3f8b-499c-87a9-f6db3c432b16"
      },
      "execution_count": 429,
      "outputs": [
        {
          "output_type": "stream",
          "name": "stdout",
          "text": [
            "= 4\n",
            "= 4\n",
            "= 0\n"
          ]
        }
      ]
    },
    {
      "cell_type": "code",
      "source": [],
      "metadata": {
        "id": "jnSSRJJvyV7E"
      },
      "execution_count": null,
      "outputs": []
    }
  ]
}