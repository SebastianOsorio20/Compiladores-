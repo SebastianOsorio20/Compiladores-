{
  "nbformat": 4,
  "nbformat_minor": 0,
  "metadata": {
    "colab": {
      "provenance": []
    },
    "kernelspec": {
      "name": "python3",
      "display_name": "Python 3"
    },
    "language_info": {
      "name": "python"
    }
  },
  "cells": [
    {
      "cell_type": "code",
      "source": [
        "!sudo apt-get update\n",
        "!sudo apt-get install flex bison"
      ],
      "metadata": {
        "colab": {
          "base_uri": "https://localhost:8080/"
        },
        "id": "0be3xca0Pxaa",
        "outputId": "e88b62a5-dd21-4970-95a4-d180a42a25fb"
      },
      "execution_count": 1,
      "outputs": [
        {
          "output_type": "stream",
          "name": "stdout",
          "text": [
            "\r0% [Working]\r            \rGet:1 http://security.ubuntu.com/ubuntu focal-security InRelease [114 kB]\n",
            "\r0% [Connecting to archive.ubuntu.com (185.125.190.39)] [1 InRelease 14.2 kB/114\r0% [Connecting to archive.ubuntu.com (185.125.190.39)] [Waiting for headers] [C\r                                                                               \rGet:2 https://cloud.r-project.org/bin/linux/ubuntu focal-cran40/ InRelease [3,622 B]\n",
            "\r0% [Connecting to archive.ubuntu.com (185.125.190.39)] [Connecting to ppa.launc\r                                                                               \rGet:3 https://developer.download.nvidia.com/compute/cuda/repos/ubuntu2004/x86_64  InRelease [1,581 B]\n",
            "\r0% [Waiting for headers] [Connecting to ppa.launchpad.net (185.125.190.52)] [3 \r                                                                               \r0% [Waiting for headers] [Connecting to ppa.launchpad.net (185.125.190.52)]\r                                                                           \rHit:4 http://archive.ubuntu.com/ubuntu focal InRelease\n",
            "\r                                                                           \r0% [Waiting for headers] [Waiting for headers]\r                                              \rHit:5 http://ppa.launchpad.net/c2d4u.team/c2d4u4.0+/ubuntu focal InRelease\n",
            "Get:6 http://archive.ubuntu.com/ubuntu focal-updates InRelease [114 kB]\n",
            "Get:7 http://security.ubuntu.com/ubuntu focal-security/main amd64 Packages [2,669 kB]\n",
            "Hit:8 http://ppa.launchpad.net/cran/libgit2/ubuntu focal InRelease\n",
            "Hit:9 http://ppa.launchpad.net/deadsnakes/ppa/ubuntu focal InRelease\n",
            "Get:10 http://archive.ubuntu.com/ubuntu focal-backports InRelease [108 kB]\n",
            "Hit:11 http://ppa.launchpad.net/graphics-drivers/ppa/ubuntu focal InRelease\n",
            "Get:12 https://developer.download.nvidia.com/compute/cuda/repos/ubuntu2004/x86_64  Packages [1,009 kB]\n",
            "Hit:13 http://ppa.launchpad.net/ubuntugis/ppa/ubuntu focal InRelease\n",
            "Get:14 http://archive.ubuntu.com/ubuntu focal-updates/main amd64 Packages [3,150 kB]\n",
            "Fetched 7,169 kB in 2s (3,397 kB/s)\n",
            "Reading package lists... Done\n",
            "Reading package lists... Done\n",
            "Building dependency tree       \n",
            "Reading state information... Done\n",
            "The following additional packages will be installed:\n",
            "  libfl-dev libfl2\n",
            "Suggested packages:\n",
            "  bison-doc flex-doc\n",
            "The following NEW packages will be installed:\n",
            "  bison flex libfl-dev libfl2\n",
            "0 upgraded, 4 newly installed, 0 to remove and 25 not upgraded.\n",
            "Need to get 991 kB of archives.\n",
            "After this operation, 3,155 kB of additional disk space will be used.\n",
            "Get:1 http://archive.ubuntu.com/ubuntu focal/main amd64 flex amd64 2.6.4-6.2 [317 kB]\n",
            "Get:2 http://archive.ubuntu.com/ubuntu focal/main amd64 bison amd64 2:3.5.1+dfsg-1 [657 kB]\n",
            "Get:3 http://archive.ubuntu.com/ubuntu focal/main amd64 libfl2 amd64 2.6.4-6.2 [11.5 kB]\n",
            "Get:4 http://archive.ubuntu.com/ubuntu focal/main amd64 libfl-dev amd64 2.6.4-6.2 [6,316 B]\n",
            "Fetched 991 kB in 1s (1,317 kB/s)\n",
            "debconf: unable to initialize frontend: Dialog\n",
            "debconf: (No usable dialog-like program is installed, so the dialog based frontend cannot be used. at /usr/share/perl5/Debconf/FrontEnd/Dialog.pm line 76, <> line 4.)\n",
            "debconf: falling back to frontend: Readline\n",
            "debconf: unable to initialize frontend: Readline\n",
            "debconf: (This frontend requires a controlling tty.)\n",
            "debconf: falling back to frontend: Teletype\n",
            "dpkg-preconfigure: unable to re-open stdin: \n",
            "Selecting previously unselected package flex.\n",
            "(Reading database ... 122518 files and directories currently installed.)\n",
            "Preparing to unpack .../flex_2.6.4-6.2_amd64.deb ...\n",
            "Unpacking flex (2.6.4-6.2) ...\n",
            "Selecting previously unselected package bison.\n",
            "Preparing to unpack .../bison_2%3a3.5.1+dfsg-1_amd64.deb ...\n",
            "Unpacking bison (2:3.5.1+dfsg-1) ...\n",
            "Selecting previously unselected package libfl2:amd64.\n",
            "Preparing to unpack .../libfl2_2.6.4-6.2_amd64.deb ...\n",
            "Unpacking libfl2:amd64 (2.6.4-6.2) ...\n",
            "Selecting previously unselected package libfl-dev:amd64.\n",
            "Preparing to unpack .../libfl-dev_2.6.4-6.2_amd64.deb ...\n",
            "Unpacking libfl-dev:amd64 (2.6.4-6.2) ...\n",
            "Setting up flex (2.6.4-6.2) ...\n",
            "Setting up libfl2:amd64 (2.6.4-6.2) ...\n",
            "Setting up bison (2:3.5.1+dfsg-1) ...\n",
            "update-alternatives: using /usr/bin/bison.yacc to provide /usr/bin/yacc (yacc) in auto mode\n",
            "Setting up libfl-dev:amd64 (2.6.4-6.2) ...\n",
            "Processing triggers for man-db (2.9.1-1) ...\n",
            "Processing triggers for libc-bin (2.31-0ubuntu9.9) ...\n"
          ]
        }
      ]
    },
    {
      "cell_type": "code",
      "execution_count": 282,
      "metadata": {
        "colab": {
          "base_uri": "https://localhost:8080/"
        },
        "id": "IIJhWO3_Nh_D",
        "outputId": "e3bb6d3c-57ea-4949-883e-71e1e51132d3"
      },
      "outputs": [
        {
          "output_type": "stream",
          "name": "stdout",
          "text": [
            "Overwriting lexer.l\n"
          ]
        }
      ],
      "source": [
        "%%writefile lexer.l\n",
        "%{\n",
        "#include \"parser.tab.h\"\n",
        "%}\n",
        "\n",
        "%%\n",
        "\n",
        "\n",
        "[ \\t]   ;    /* skip whitespace */\n",
        "\"print\"   { return PRINT; }\n",
        "\"true\"    { return TRUE; }\n",
        "\"false\"   { return FALSE; }\n",
        "\"if\"      { return IF; }\n",
        "\"else\"    { return ELSE; }\n",
        "\"for\"     { return FOR; }\n",
        "\"to\"      { return TO; }\n",
        "\"step\"    { return STEP; }\n",
        "\"AND\"     { return AND; }\n",
        "\"OR\"      { return OR; }\n",
        "\"NOT\"     { return NOT; }\n",
        "\"<=\"      { return LE; }\n",
        "\">=\"      { return GE; }\n",
        "'<'       { return '<'; }\n",
        "'>'       { return '>'; }\n",
        "\"==\"      {return EQ; }\n",
        "\"!=\"      {return NEQ; }\n",
        "\n",
        "[a-zA-Z]+ { yylval = *yytext - 'a'; return ID; }\n",
        "[0-9]+  { yylval = atoi(yytext); return INTEGER; }\n",
        "[\\n]    { return EOL; }\n",
        ".       { return yytext[0]; }\n",
        "\n",
        "\n",
        "%%\n",
        "\n",
        "int yywrap(void) {\n",
        "    return 1;\n",
        "}"
      ]
    },
    {
      "cell_type": "code",
      "source": [
        "%%writefile parser.y\n",
        "%{\n",
        "#include <stdio.h>\n",
        "#include <stdlib.h>\n",
        "extern int yylex(void);\n",
        "extern char *yytext;\n",
        "void yyerror(char *);\n",
        "int variables[26];\n",
        "%}\n",
        "\n",
        "%token INTEGER\n",
        "%token STRING\n",
        "%token EOL\n",
        "%token ID\n",
        "%token PRINT\n",
        "%token BOOLEAN\n",
        "%token TRUE FALSE\n",
        "%left FOR TO STEP\n",
        "%left IF ELSE\n",
        "%left AND OR\n",
        "%nonassoc NOT\n",
        "%left '+' '-'\n",
        "%left '*' '/'\n",
        "%nonassoc '=' '<''>'\n",
        "%nonassoc LE GE EQ NEQ\n",
        "\n",
        "%%\n",
        "\n",
        "program:\n",
        "    /* empty */\n",
        "    | program line\n",
        "    ;\n",
        "\n",
        "line:\n",
        "    EOL\n",
        "    | expr EOL { printf(\"= %d\\n\", $1); }\n",
        "    | for_loop EOL { printf(\"= %d\\n\", $1); }\n",
        "    ;\n",
        "\n",
        "for_loop:\n",
        "    FOR ID '=' expr TO expr STEP expr '{' expr '}'\n",
        "    {\n",
        "        int i, start = $4, end = $6, step = $8;\n",
        "        for (i = start; i <= end; i += step) {\n",
        "            variables[$2] = i;\n",
        "            yyparse();\n",
        "        }\n",
        "        $$ = $10;\n",
        "    }\n",
        "    ;\n",
        "\n",
        "expr:\n",
        "    INTEGER\n",
        "    | ID              { $$ = variables[$1];  }\n",
        "    | ID '=' expr     { variables[$1] = $3; $$ = $3; }\n",
        "    | '(' expr ')'    { $$ = $2; }\n",
        "    | expr '+' expr   { $$ = $1 + $3; }\n",
        "    | expr '-' expr   { $$ = $1 - $3; }\n",
        "    | expr '*' expr   { $$ = $1 * $3; }\n",
        "    | expr '/' expr   { $$ = $1 / $3; }\n",
        "\n",
        "    STRING\n",
        "    | 'p' '(' expr ')' { printf(\"%d\\n\", $3); }      \n",
        "    | TRUE           { $$ = 1; }\n",
        "    | FALSE          { $$ = 0; }\n",
        "    | expr AND expr  { $$ = ($1 && $3); }\n",
        "    | expr OR expr   { $$ = ($1 || $3); }\n",
        "    | NOT expr       { $$ = !$2; }\n",
        "    | expr '<' expr  { $$ = ($1 < $3); }\n",
        "    | expr '>' expr  { $$ = ($1 > $3); }\n",
        "    | expr LE expr  { $$ = ($1 <= $3); }\n",
        "    | expr GE expr  { $$ = ($1 >= $3); }\n",
        "    | expr EQ expr  { $$ = ($1 == $3); }\n",
        "    | expr NEQ expr  { $$ = ($1 != $3); }\n",
        "    | IF '(' expr ')' expr ELSE expr  { $$ = $3 ? $5 : $7; }\n",
        "\n",
        "%%\n",
        "\n",
        "int main(void) {\n",
        "    yyparse();\n",
        "    return 0;\n",
        "}\n",
        "\n",
        "void yyerror(char *s) {\n",
        "    fprintf(stderr, \"error: %s\\n\", yytext);\n",
        "}\n"
      ],
      "metadata": {
        "colab": {
          "base_uri": "https://localhost:8080/"
        },
        "id": "SW5oWxPKNxnV",
        "outputId": "d03b23e5-c091-4be1-e804-15ea852029ad"
      },
      "execution_count": 300,
      "outputs": [
        {
          "output_type": "stream",
          "name": "stdout",
          "text": [
            "Overwriting parser.y\n"
          ]
        }
      ]
    },
    {
      "cell_type": "code",
      "source": [
        "!flex lexer.l && bison -d parser.y"
      ],
      "metadata": {
        "id": "r-9MnlSJQBpY"
      },
      "execution_count": 301,
      "outputs": []
    },
    {
      "cell_type": "code",
      "source": [
        "!gcc -o parser lex.yy.c parser.tab.c -lfl"
      ],
      "metadata": {
        "id": "2lv7VCibQVY7"
      },
      "execution_count": 302,
      "outputs": []
    },
    {
      "cell_type": "code",
      "source": [
        "%%writefile expresion.txt\n",
        "a = 2\n",
        "b = 4\n",
        "for i = 3 to 7 step 1 { b = b + a }"
      ],
      "metadata": {
        "colab": {
          "base_uri": "https://localhost:8080/"
        },
        "id": "yXbwbG_pQUDW",
        "outputId": "fc7d6811-457e-4a8a-e191-0508414e3323"
      },
      "execution_count": 303,
      "outputs": [
        {
          "output_type": "stream",
          "name": "stdout",
          "text": [
            "Overwriting expresion.txt\n"
          ]
        }
      ]
    },
    {
      "cell_type": "code",
      "source": [
        "%%writefile ejemplo.txt\n",
        "true AND true\n"
      ],
      "metadata": {
        "colab": {
          "base_uri": "https://localhost:8080/"
        },
        "id": "oL2KdoOx1GlW",
        "outputId": "0715079b-768b-449c-f640-23563b74b5da"
      },
      "execution_count": 309,
      "outputs": [
        {
          "output_type": "stream",
          "name": "stdout",
          "text": [
            "Overwriting ejemplo.txt\n"
          ]
        }
      ]
    },
    {
      "cell_type": "code",
      "source": [
        "!./parser <  ejemplo.txt"
      ],
      "metadata": {
        "colab": {
          "base_uri": "https://localhost:8080/"
        },
        "id": "xiFI2Leh8qeF",
        "outputId": "e6a0b68f-8e41-468a-c4af-12d926fc17bc"
      },
      "execution_count": 310,
      "outputs": [
        {
          "output_type": "stream",
          "name": "stdout",
          "text": [
            "= 1\n"
          ]
        }
      ]
    },
    {
      "cell_type": "code",
      "source": [
        "%%writefile ejemplo2.txt\n",
        "a=5\n",
        "b=4\n",
        "\n",
        "if (a < b) 5 else 4\n"
      ],
      "metadata": {
        "colab": {
          "base_uri": "https://localhost:8080/"
        },
        "id": "4U2X9smHWxOK",
        "outputId": "e7228787-a955-452a-f74e-b3eecace7a6b"
      },
      "execution_count": 307,
      "outputs": [
        {
          "output_type": "stream",
          "name": "stdout",
          "text": [
            "Overwriting ejemplo2.txt\n"
          ]
        }
      ]
    },
    {
      "cell_type": "code",
      "source": [
        "!./parser <  ejemplo2.txt"
      ],
      "metadata": {
        "colab": {
          "base_uri": "https://localhost:8080/"
        },
        "id": "ycCsoXu1PjWf",
        "outputId": "7b8c8c5d-6d43-4bc2-8b54-0ea18c72037e"
      },
      "execution_count": 308,
      "outputs": [
        {
          "output_type": "stream",
          "name": "stdout",
          "text": [
            "= 5\n",
            "= 4\n",
            "= 4\n"
          ]
        }
      ]
    },
    {
      "cell_type": "code",
      "source": [
        "%%writefile ejemplo3.txt\n",
        "\n",
        "a=4\n",
        "b=4\n",
        "\n",
        "a != b"
      ],
      "metadata": {
        "id": "jnSSRJJvyV7E",
        "colab": {
          "base_uri": "https://localhost:8080/"
        },
        "outputId": "b123d10d-9243-4ad9-d7df-74ba2c1b5d99"
      },
      "execution_count": 305,
      "outputs": [
        {
          "output_type": "stream",
          "name": "stdout",
          "text": [
            "Writing ejemplo3.txt\n"
          ]
        }
      ]
    },
    {
      "cell_type": "code",
      "source": [
        "!./parser <  ejemplo3.txt"
      ],
      "metadata": {
        "colab": {
          "base_uri": "https://localhost:8080/"
        },
        "id": "owcObDWBlCcc",
        "outputId": "57279c3b-4de1-429b-d05a-44b77083cdba"
      },
      "execution_count": 306,
      "outputs": [
        {
          "output_type": "stream",
          "name": "stdout",
          "text": [
            "= 4\n",
            "= 4\n",
            "= 0\n"
          ]
        }
      ]
    },
    {
      "cell_type": "code",
      "source": [],
      "metadata": {
        "id": "fCihIgx0lFKz"
      },
      "execution_count": null,
      "outputs": []
    }
  ]
}